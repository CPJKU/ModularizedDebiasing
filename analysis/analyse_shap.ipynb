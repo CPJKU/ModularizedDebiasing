{
 "cells": [
  {
   "cell_type": "code",
   "execution_count": 1,
   "metadata": {},
   "outputs": [],
   "source": [
    "import shap\n",
    "import pickle\n",
    "import torch\n",
    "import numpy as np"
   ]
  },
  {
   "cell_type": "code",
   "execution_count": 2,
   "metadata": {},
   "outputs": [],
   "source": [
    "with open(\"data/shap_data_pan16.pkl\", \"rb\") as f:\n",
    "    data_dict = pickle.load(f)\n",
    "\n",
    "with open(\"data/shap_values_pan16.pkl\", \"rb\") as f:\n",
    "    shap_values_task, shap_values_adv, shap_values_adv_mod, shap_values_adv_mod_seq = pickle.load(f)"
   ]
  },
  {
   "cell_type": "code",
   "execution_count": 3,
   "metadata": {},
   "outputs": [],
   "source": [
    "shap_dict = {\n",
    "    \"task\": shap_values_task,\n",
    "    \"adv\": shap_values_adv,\n",
    "    \"adv_mod\": shap_values_adv_mod,\n",
    "    \"adv_mod_seq\": shap_values_adv_mod_seq\n",
    "}"
   ]
  },
  {
   "cell_type": "code",
   "execution_count": 4,
   "metadata": {},
   "outputs": [
    {
     "data": {
      "text/plain": [
       "['inputs',\n",
       " 'emb',\n",
       " 'emb_deb',\n",
       " 'emb_deb_mod',\n",
       " 'emb_deb_mod_seq',\n",
       " 'task_labels',\n",
       " 'task_pred',\n",
       " 'task_deb_pred',\n",
       " 'task_deb_mod_pred',\n",
       " 'task_deb_mod_seq_pred',\n",
       " 'prot_labels',\n",
       " 'prot_pred',\n",
       " 'prot_mod_pred',\n",
       " 'prot_mod_seq_pred',\n",
       " 'inputs_text',\n",
       " 'attack_pred',\n",
       " 'attack_deb_pred',\n",
       " 'attack_deb_mod_pred',\n",
       " 'attack_deb_mod_pred_seq']"
      ]
     },
     "execution_count": 4,
     "metadata": {},
     "output_type": "execute_result"
    }
   ],
   "source": [
    "list(data_dict.keys())"
   ]
  },
  {
   "cell_type": "code",
   "execution_count": 9,
   "metadata": {},
   "outputs": [
    {
     "name": "stdout",
     "output_type": "stream",
     "text": [
      "inputs_text: photoset : hi internet i am looking for a roommate. email me at amandalynferri if you want to hang....\n",
      "task_labels: 1\n",
      "task_pred: 4.593868255615234\n",
      "task_deb_pred: 6.865817546844482\n",
      "task_deb_mod_pred: 9.694220542907715\n",
      "task_deb_mod_seq_pred: 6.637912750244141\n",
      "prot_labels: 0\n",
      "prot_pred: 1\n",
      "prot_mod_pred: 1\n",
      "prot_mod_seq_pred: 1\n"
     ]
    }
   ],
   "source": [
    "idx = 8385\n",
    "keys = [\n",
    "    'inputs_text',\n",
    "    'task_labels',\n",
    "    'task_pred',\n",
    "    'task_deb_pred',\n",
    "    'task_deb_mod_pred',\n",
    "    'task_deb_mod_seq_pred',\n",
    "    'prot_labels',\n",
    "    'prot_pred',\n",
    "    'prot_mod_pred',\n",
    "    'prot_mod_seq_pred'\n",
    "]\n",
    "for k in keys:\n",
    "    v = data_dict[k]\n",
    "    print(f\"{k}: {v[idx]}\")"
   ]
  },
  {
   "cell_type": "code",
   "execution_count": 23,
   "metadata": {},
   "outputs": [],
   "source": [
    "import torch\n",
    "import shap\n",
    "from functools import partial"
   ]
  },
  {
   "cell_type": "code",
   "execution_count": 15,
   "metadata": {},
   "outputs": [
    {
     "data": {
      "text/plain": [
       "torch.Size([100, 768])"
      ]
     },
     "execution_count": 15,
     "metadata": {},
     "output_type": "execute_result"
    }
   ],
   "source": [
    "data_dict[\"emb\"][:100].shape"
   ]
  },
  {
   "cell_type": "code",
   "execution_count": 25,
   "metadata": {},
   "outputs": [
    {
     "ename": "TypeError",
     "evalue": "the first argument must be callable",
     "output_type": "error",
     "traceback": [
      "\u001b[0;31m---------------------------------------------------------------------------\u001b[0m",
      "\u001b[0;31mTypeError\u001b[0m                                 Traceback (most recent call last)",
      "\u001b[1;32m/home/lukash/sparse_transformers/analysis/analyse_shap.ipynb Cell 8\u001b[0m in \u001b[0;36m<cell line: 1>\u001b[0;34m()\u001b[0m\n\u001b[0;32m----> <a href='vscode-notebook-cell://ssh-remote%2Brk8.cp.jku.at/home/lukash/sparse_transformers/analysis/analyse_shap.ipynb#X20sdnNjb2RlLXJlbW90ZQ%3D%3D?line=0'>1</a>\u001b[0m partial(f, m\u001b[39m=\u001b[39;49ml)\n",
      "\u001b[0;31mTypeError\u001b[0m: the first argument must be callable"
     ]
    }
   ],
   "source": [
    "partial(f, m=l)"
   ]
  },
  {
   "cell_type": "code",
   "execution_count": 33,
   "metadata": {},
   "outputs": [
    {
     "name": "stderr",
     "output_type": "stream",
     "text": [
      "Using 1000 background data samples could cause slower run times. Consider using shap.sample(data, K) or shap.kmeans(data, K) to summarize the background as K samples.\n"
     ]
    },
    {
     "data": {
      "application/vnd.jupyter.widget-view+json": {
       "model_id": "e82ff0a7dbc7465aa74cec36c567f102",
       "version_major": 2,
       "version_minor": 0
      },
      "text/plain": [
       "  0%|          | 0/1000 [00:00<?, ?it/s]"
      ]
     },
     "metadata": {},
     "output_type": "display_data"
    },
    {
     "ename": "KeyboardInterrupt",
     "evalue": "",
     "output_type": "error",
     "traceback": [
      "\u001b[0;31m---------------------------------------------------------------------------\u001b[0m",
      "\u001b[0;31mKeyboardInterrupt\u001b[0m                         Traceback (most recent call last)",
      "\u001b[1;32m/home/lukash/sparse_transformers/analysis/analyse_shap.ipynb Cell 9\u001b[0m in \u001b[0;36m<cell line: 8>\u001b[0;34m()\u001b[0m\n\u001b[1;32m      <a href='vscode-notebook-cell://ssh-remote%2Brk8.cp.jku.at/home/lukash/sparse_transformers/analysis/analyse_shap.ipynb#X15sdnNjb2RlLXJlbW90ZQ%3D%3D?line=4'>5</a>\u001b[0m X \u001b[39m=\u001b[39m data_dict[\u001b[39m\"\u001b[39m\u001b[39memb\u001b[39m\u001b[39m\"\u001b[39m]\u001b[39m.\u001b[39mnumpy()[:\u001b[39m1000\u001b[39m]\n\u001b[1;32m      <a href='vscode-notebook-cell://ssh-remote%2Brk8.cp.jku.at/home/lukash/sparse_transformers/analysis/analyse_shap.ipynb#X15sdnNjb2RlLXJlbW90ZQ%3D%3D?line=6'>7</a>\u001b[0m explainer \u001b[39m=\u001b[39m shap\u001b[39m.\u001b[39mKernelExplainer(partial(fn, m\u001b[39m=\u001b[39ml), X)\n\u001b[0;32m----> <a href='vscode-notebook-cell://ssh-remote%2Brk8.cp.jku.at/home/lukash/sparse_transformers/analysis/analyse_shap.ipynb#X15sdnNjb2RlLXJlbW90ZQ%3D%3D?line=7'>8</a>\u001b[0m shap_values \u001b[39m=\u001b[39m explainer\u001b[39m.\u001b[39;49mshap_values(X)\n",
      "File \u001b[0;32m~/miniconda3/envs/testenv/lib/python3.9/site-packages/shap/explainers/_kernel.py:190\u001b[0m, in \u001b[0;36mKernel.shap_values\u001b[0;34m(self, X, **kwargs)\u001b[0m\n\u001b[1;32m    188\u001b[0m \u001b[39mif\u001b[39;00m \u001b[39mself\u001b[39m\u001b[39m.\u001b[39mkeep_index:\n\u001b[1;32m    189\u001b[0m     data \u001b[39m=\u001b[39m convert_to_instance_with_index(data, column_name, index_value[i:i \u001b[39m+\u001b[39m \u001b[39m1\u001b[39m], index_name)\n\u001b[0;32m--> 190\u001b[0m explanations\u001b[39m.\u001b[39mappend(\u001b[39mself\u001b[39;49m\u001b[39m.\u001b[39;49mexplain(data, \u001b[39m*\u001b[39;49m\u001b[39m*\u001b[39;49mkwargs))\n\u001b[1;32m    191\u001b[0m \u001b[39mif\u001b[39;00m kwargs\u001b[39m.\u001b[39mget(\u001b[39m\"\u001b[39m\u001b[39mgc_collect\u001b[39m\u001b[39m\"\u001b[39m, \u001b[39mFalse\u001b[39;00m):\n\u001b[1;32m    192\u001b[0m     gc\u001b[39m.\u001b[39mcollect()\n",
      "File \u001b[0;32m~/miniconda3/envs/testenv/lib/python3.9/site-packages/shap/explainers/_kernel.py:217\u001b[0m, in \u001b[0;36mKernel.explain\u001b[0;34m(self, incoming_instance, **kwargs)\u001b[0m\n\u001b[1;32m    213\u001b[0m match_instance_to_data(instance, \u001b[39mself\u001b[39m\u001b[39m.\u001b[39mdata)\n\u001b[1;32m    215\u001b[0m \u001b[39m# find the feature groups we will test. If a feature does not change from its\u001b[39;00m\n\u001b[1;32m    216\u001b[0m \u001b[39m# current value then we know it doesn't impact the model\u001b[39;00m\n\u001b[0;32m--> 217\u001b[0m \u001b[39mself\u001b[39m\u001b[39m.\u001b[39mvaryingInds \u001b[39m=\u001b[39m \u001b[39mself\u001b[39;49m\u001b[39m.\u001b[39;49mvarying_groups(instance\u001b[39m.\u001b[39;49mx)\n\u001b[1;32m    218\u001b[0m \u001b[39mif\u001b[39;00m \u001b[39mself\u001b[39m\u001b[39m.\u001b[39mdata\u001b[39m.\u001b[39mgroups \u001b[39mis\u001b[39;00m \u001b[39mNone\u001b[39;00m:\n\u001b[1;32m    219\u001b[0m     \u001b[39mself\u001b[39m\u001b[39m.\u001b[39mvaryingFeatureGroups \u001b[39m=\u001b[39m np\u001b[39m.\u001b[39marray([i \u001b[39mfor\u001b[39;00m i \u001b[39min\u001b[39;00m \u001b[39mself\u001b[39m\u001b[39m.\u001b[39mvaryingInds])\n",
      "File \u001b[0;32m~/miniconda3/envs/testenv/lib/python3.9/site-packages/shap/explainers/_kernel.py:417\u001b[0m, in \u001b[0;36mKernel.varying_groups\u001b[0;34m(self, x)\u001b[0m\n\u001b[1;32m    415\u001b[0m             \u001b[39mcontinue\u001b[39;00m\n\u001b[1;32m    416\u001b[0m         x_group \u001b[39m=\u001b[39m x_group\u001b[39m.\u001b[39mtodense()\n\u001b[0;32m--> 417\u001b[0m     num_mismatches \u001b[39m=\u001b[39m np\u001b[39m.\u001b[39msum(np\u001b[39m.\u001b[39;49mfrompyfunc(\u001b[39mself\u001b[39;49m\u001b[39m.\u001b[39;49mnot_equal, \u001b[39m2\u001b[39;49m, \u001b[39m1\u001b[39;49m)(x_group, \u001b[39mself\u001b[39;49m\u001b[39m.\u001b[39;49mdata\u001b[39m.\u001b[39;49mdata[:, inds]))\n\u001b[1;32m    418\u001b[0m     varying[i] \u001b[39m=\u001b[39m num_mismatches \u001b[39m>\u001b[39m \u001b[39m0\u001b[39m\n\u001b[1;32m    419\u001b[0m varying_indices \u001b[39m=\u001b[39m np\u001b[39m.\u001b[39mnonzero(varying)[\u001b[39m0\u001b[39m]\n",
      "File \u001b[0;32m~/miniconda3/envs/testenv/lib/python3.9/site-packages/shap/explainers/_kernel.py:402\u001b[0m, in \u001b[0;36mKernel.not_equal\u001b[0;34m(i, j)\u001b[0m\n\u001b[1;32m    400\u001b[0m number_types \u001b[39m=\u001b[39m (\u001b[39mint\u001b[39m, \u001b[39mfloat\u001b[39m, np\u001b[39m.\u001b[39mnumber)\n\u001b[1;32m    401\u001b[0m \u001b[39mif\u001b[39;00m \u001b[39misinstance\u001b[39m(i, number_types) \u001b[39mand\u001b[39;00m \u001b[39misinstance\u001b[39m(j, number_types):\n\u001b[0;32m--> 402\u001b[0m     \u001b[39mreturn\u001b[39;00m \u001b[39m0\u001b[39m \u001b[39mif\u001b[39;00m np\u001b[39m.\u001b[39;49misclose(i, j, equal_nan\u001b[39m=\u001b[39;49m\u001b[39mTrue\u001b[39;49;00m) \u001b[39melse\u001b[39;00m \u001b[39m1\u001b[39m\n\u001b[1;32m    403\u001b[0m \u001b[39melse\u001b[39;00m:\n\u001b[1;32m    404\u001b[0m     \u001b[39mreturn\u001b[39;00m \u001b[39m0\u001b[39m \u001b[39mif\u001b[39;00m i \u001b[39m==\u001b[39m j \u001b[39melse\u001b[39;00m \u001b[39m1\u001b[39m\n",
      "File \u001b[0;32m<__array_function__ internals>:5\u001b[0m, in \u001b[0;36misclose\u001b[0;34m(*args, **kwargs)\u001b[0m\n",
      "File \u001b[0;32m~/miniconda3/envs/testenv/lib/python3.9/site-packages/numpy/core/numeric.py:2358\u001b[0m, in \u001b[0;36misclose\u001b[0;34m(a, b, rtol, atol, equal_nan)\u001b[0m\n\u001b[1;32m   2356\u001b[0m yfin \u001b[39m=\u001b[39m isfinite(y)\n\u001b[1;32m   2357\u001b[0m \u001b[39mif\u001b[39;00m \u001b[39mall\u001b[39m(xfin) \u001b[39mand\u001b[39;00m \u001b[39mall\u001b[39m(yfin):\n\u001b[0;32m-> 2358\u001b[0m     \u001b[39mreturn\u001b[39;00m within_tol(x, y, atol, rtol)\n\u001b[1;32m   2359\u001b[0m \u001b[39melse\u001b[39;00m:\n\u001b[1;32m   2360\u001b[0m     finite \u001b[39m=\u001b[39m xfin \u001b[39m&\u001b[39m yfin\n",
      "File \u001b[0;32m~/miniconda3/envs/testenv/lib/python3.9/site-packages/numpy/core/numeric.py:2339\u001b[0m, in \u001b[0;36misclose.<locals>.within_tol\u001b[0;34m(x, y, atol, rtol)\u001b[0m\n\u001b[1;32m   2337\u001b[0m \u001b[39mdef\u001b[39;00m \u001b[39mwithin_tol\u001b[39m(x, y, atol, rtol):\n\u001b[1;32m   2338\u001b[0m     \u001b[39mwith\u001b[39;00m errstate(invalid\u001b[39m=\u001b[39m\u001b[39m'\u001b[39m\u001b[39mignore\u001b[39m\u001b[39m'\u001b[39m):\n\u001b[0;32m-> 2339\u001b[0m         \u001b[39mreturn\u001b[39;00m less_equal(\u001b[39mabs\u001b[39m(x\u001b[39m-\u001b[39;49my), atol \u001b[39m+\u001b[39m rtol \u001b[39m*\u001b[39m \u001b[39mabs\u001b[39m(y))\n",
      "\u001b[0;31mKeyboardInterrupt\u001b[0m: "
     ]
    }
   ],
   "source": [
    "def fn(x, m):\n",
    "    return m(torch.from_numpy(x)).detach().numpy()\n",
    "\n",
    "l = torch.nn.Linear(768, 10)\n",
    "X = data_dict[\"emb\"].numpy()[:1000]\n",
    "\n",
    "explainer = shap.KernelExplainer(partial(fn, m=l), X)\n",
    "shap_values = explainer.shap_values(X)"
   ]
  },
  {
   "cell_type": "code",
   "execution_count": 9,
   "metadata": {},
   "outputs": [],
   "source": [
    "keys_to_compare = [\"attack_pred\", \"attack_deb_pred\", \"attack_deb_mod_pred\", \"attack_deb_mod_pred_seq\"]\n",
    "compare = torch.stack([data_dict[k] for k in keys_to_compare]).sum(0)\n",
    "f_idx = (~torch.logical_or(compare == 0, compare == len(keys_to_compare))).nonzero(as_tuple=True)[0]"
   ]
  },
  {
   "cell_type": "code",
   "execution_count": 16,
   "metadata": {},
   "outputs": [],
   "source": [
    "keys_to_compare = [\"attack_pred\", \"attack_deb_pred\", \"attack_deb_mod_pred\", \"attack_deb_mod_pred_seq\"]\n",
    "compare = torch.stack([data_dict[k] for k in keys_to_compare])"
   ]
  },
  {
   "cell_type": "code",
   "execution_count": 49,
   "metadata": {},
   "outputs": [],
   "source": [
    "tmp = compare[1:].sum(0)\n",
    "a = torch.logical_and(~compare[0].bool(), tmp == 3)\n",
    "b = torch.logical_and(compare[0].bool(), tmp == 0)\n",
    "c = torch.logical_or(a,b)\n",
    "f_idx = c.nonzero(as_tuple=True)[0]"
   ]
  },
  {
   "cell_type": "code",
   "execution_count": 52,
   "metadata": {},
   "outputs": [
    {
     "data": {
      "text/plain": [
       "array([ 99051, 149560,  82734,  92763, 124119, 101173,  34352,  63831,\n",
       "         4077,  24913])"
      ]
     },
     "execution_count": 52,
     "metadata": {},
     "output_type": "execute_result"
    }
   ],
   "source": [
    "np.random.choice(f_idx, size=10)"
   ]
  },
  {
   "cell_type": "code",
   "execution_count": 13,
   "metadata": {},
   "outputs": [],
   "source": [
    "# ds = {\n",
    "#     \"labels\": data_dict[\"task_labels\"][f_idx],\n",
    "#     \"text\": [data_dict[\"inputs_text\"][i] for i in f_idx]\n",
    "# }"
   ]
  },
  {
   "cell_type": "code",
   "execution_count": 54,
   "metadata": {},
   "outputs": [],
   "source": [
    "idx = np.random.choice(f_idx, size=5)\n",
    "for i in idx:\n",
    "    for k,v in shap_dict.items():\n",
    "        with open(f'charts/shap_viz_{i}_{k}.html','w') as f:\n",
    "                f.write(shap.plots.text(v[i], display=False))"
   ]
  }
 ],
 "metadata": {
  "kernelspec": {
   "display_name": "testenv",
   "language": "python",
   "name": "python3"
  },
  "language_info": {
   "codemirror_mode": {
    "name": "ipython",
    "version": 3
   },
   "file_extension": ".py",
   "mimetype": "text/x-python",
   "name": "python",
   "nbconvert_exporter": "python",
   "pygments_lexer": "ipython3",
   "version": "3.9.12 (main, Apr  5 2022, 06:56:58) \n[GCC 7.5.0]"
  },
  "orig_nbformat": 4,
  "vscode": {
   "interpreter": {
    "hash": "44fd53a9831942cc7290b70e18d76362301b009d310fe9edb8a5f7b8f5560d5f"
   }
  }
 },
 "nbformat": 4,
 "nbformat_minor": 2
}
