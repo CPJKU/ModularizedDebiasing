{
 "cells": [
  {
   "cell_type": "code",
   "execution_count": 1,
   "metadata": {},
   "outputs": [],
   "source": [
    "import sys\n",
    "sys.path.insert(0,'..')"
   ]
  },
  {
   "cell_type": "code",
   "execution_count": 43,
   "metadata": {},
   "outputs": [],
   "source": [
    "import os\n",
    "import numpy as np\n",
    "import pandas as pd\n",
    "import matplotlib.pyplot as plt\n",
    "from matplotlib.lines import Line2D\n",
    "import seaborn as sns\n",
    "import torch\n",
    "import re\n",
    "\n",
    "from src.model_functions import model_factory\n",
    "from src.utils import get_param_from_name\n",
    "\n",
    "from IPython.display import clear_output"
   ]
  },
  {
   "cell_type": "code",
   "execution_count": 5,
   "metadata": {},
   "outputs": [],
   "source": [
    "output_folder = \"charts\"\n",
    "model_type = \"bertbase\" # bertl4\n",
    "\n",
    "n_seeds = 5\n",
    "par_idx = 0\n",
    "\n",
    "folder = f\"/share/home/lukash/pan16/{model_type}/cp_modular\"\n",
    "experiment_name = \"modular-diff_pruning_0.01-bert-base-uncased-64-2e-05-sp_pen1.25e-07-weighted_loss_prot-gender_age-seed{}.pt\""
   ]
  },
  {
   "cell_type": "code",
   "execution_count": 8,
   "metadata": {},
   "outputs": [],
   "source": [
    "diff_weights = []\n",
    "base_weights = []\n",
    "sparsity = []\n",
    "for seed in range(n_seeds):\n",
    "    filepath = os.path.join(folder, experiment_name.format(seed))\n",
    "    m = model_factory(filepath)\n",
    "    diff_weights.append(m.get_diff_weights(idx=par_idx, as_module=False))\n",
    "    base_weights.append(m.get_base_weights(as_module=False))\n",
    "    sparsity.append(m._count_non_zero_params(idx=par_idx))\n",
    "clear_output()"
   ]
  },
  {
   "cell_type": "code",
   "execution_count": 11,
   "metadata": {},
   "outputs": [
    {
     "data": {
      "text/plain": [
       "tensor([8.2580e-05, 8.5977e-05, 8.3109e-05, 8.8800e-05, 1.0740e-04])"
      ]
     },
     "execution_count": 11,
     "metadata": {},
     "output_type": "execute_result"
    }
   ],
   "source": [
    "sparsity = torch.tensor(sparsity)\n",
    "sparsity[:,2] / sparsity[:,0]"
   ]
  },
  {
   "cell_type": "code",
   "execution_count": 49,
   "metadata": {},
   "outputs": [],
   "source": [
    "filepath = os.path.join(folder, experiment_name.format(0))\n",
    "m = model_factory(filepath, debiased=True, debiased_par_idx=0) #, remove_parametrizations=True\n",
    "clear_output()"
   ]
  },
  {
   "cell_type": "code",
   "execution_count": 31,
   "metadata": {},
   "outputs": [],
   "source": [
    "bw = dict(base_weights[0])\n",
    "dw = dict(diff_weights[0])\n",
    "nonzero = {k:v for k,v in dw.items() if v.sum()>0}"
   ]
  },
  {
   "cell_type": "code",
   "execution_count": 32,
   "metadata": {},
   "outputs": [
    {
     "data": {
      "text/plain": [
       "dict_keys(['encoder.layer.0.attention.self.value.weight', 'encoder.layer.0.output.dense.weight', 'encoder.layer.1.attention.output.dense.weight', 'encoder.layer.1.intermediate.dense.weight', 'encoder.layer.2.attention.self.query.weight', 'encoder.layer.2.attention.output.dense.weight', 'encoder.layer.3.attention.self.key.weight', 'encoder.layer.3.attention.output.LayerNorm.weight', 'encoder.layer.3.output.dense.weight', 'encoder.layer.4.intermediate.dense.weight', 'encoder.layer.4.output.dense.weight', 'encoder.layer.5.attention.output.dense.weight', 'encoder.layer.5.intermediate.dense.weight', 'encoder.layer.6.attention.self.key.weight', 'encoder.layer.7.attention.self.value.weight', 'encoder.layer.7.attention.output.dense.weight', 'encoder.layer.7.output.dense.weight', 'encoder.layer.8.attention.self.value.weight', 'encoder.layer.8.output.LayerNorm.bias', 'encoder.layer.9.attention.self.key.weight', 'encoder.layer.10.attention.self.query.weight', 'encoder.layer.10.attention.self.value.weight', 'encoder.layer.10.attention.output.dense.weight', 'encoder.layer.10.intermediate.dense.weight', 'encoder.layer.10.output.LayerNorm.weight', 'encoder.layer.11.attention.self.key.weight', 'encoder.layer.11.intermediate.dense.weight', 'encoder.layer.11.output.dense.weight'])"
      ]
     },
     "execution_count": 32,
     "metadata": {},
     "output_type": "execute_result"
    }
   ],
   "source": [
    "nonzero.keys()"
   ]
  },
  {
   "cell_type": "code",
   "execution_count": 55,
   "metadata": {},
   "outputs": [],
   "source": [
    "k = 'encoder.layer.7.attention.self.value.weight'"
   ]
  },
  {
   "cell_type": "code",
   "execution_count": 62,
   "metadata": {},
   "outputs": [
    {
     "data": {
      "text/plain": [
       "tensor([[  1, 381],\n",
       "        [  9, 544],\n",
       "        [ 16, 308],\n",
       "        [ 23, 381],\n",
       "        [ 25, 381],\n",
       "        [ 28, 308],\n",
       "        [ 31, 381],\n",
       "        [ 42, 381],\n",
       "        [ 49, 308],\n",
       "        [ 51, 381],\n",
       "        [ 60, 445],\n",
       "        [ 65, 381],\n",
       "        [ 66, 381],\n",
       "        [ 74, 308],\n",
       "        [ 76, 738],\n",
       "        [ 87, 582],\n",
       "        [ 91, 381],\n",
       "        [107, 308],\n",
       "        [118, 757],\n",
       "        [122, 381],\n",
       "        [125, 381],\n",
       "        [135, 381],\n",
       "        [136, 291],\n",
       "        [136, 381],\n",
       "        [139, 381],\n",
       "        [140, 381],\n",
       "        [142, 308],\n",
       "        [142, 381],\n",
       "        [146, 539],\n",
       "        [147, 381],\n",
       "        [150, 381],\n",
       "        [153, 381],\n",
       "        [156, 381],\n",
       "        [158, 381],\n",
       "        [162,  20],\n",
       "        [162, 308],\n",
       "        [172, 381],\n",
       "        [173, 188],\n",
       "        [181, 381],\n",
       "        [188, 477],\n",
       "        [189, 308],\n",
       "        [190, 381],\n",
       "        [211, 381],\n",
       "        [213, 381],\n",
       "        [221, 381],\n",
       "        [225, 381],\n",
       "        [228, 381],\n",
       "        [233, 381],\n",
       "        [236, 308],\n",
       "        [237, 381],\n",
       "        [238, 381],\n",
       "        [248, 381],\n",
       "        [250, 381],\n",
       "        [259, 251],\n",
       "        [259, 438],\n",
       "        [261, 636],\n",
       "        [263, 381],\n",
       "        [264, 381],\n",
       "        [264, 561],\n",
       "        [270, 308],\n",
       "        [271, 221],\n",
       "        [292, 467],\n",
       "        [292, 625],\n",
       "        [294, 381],\n",
       "        [295, 381],\n",
       "        [298, 381],\n",
       "        [302, 381],\n",
       "        [304, 308],\n",
       "        [308, 381],\n",
       "        [309, 381],\n",
       "        [310, 381],\n",
       "        [311, 304],\n",
       "        [313, 381],\n",
       "        [315, 470],\n",
       "        [320, 381],\n",
       "        [322, 381],\n",
       "        [323, 381],\n",
       "        [325, 308],\n",
       "        [326, 381],\n",
       "        [327, 381],\n",
       "        [329, 381],\n",
       "        [340, 381],\n",
       "        [346, 308],\n",
       "        [348, 381],\n",
       "        [352, 381],\n",
       "        [355,  24],\n",
       "        [359, 381],\n",
       "        [362, 381],\n",
       "        [363, 381],\n",
       "        [370, 308],\n",
       "        [370, 381],\n",
       "        [373, 381],\n",
       "        [379, 381],\n",
       "        [386, 381],\n",
       "        [387, 381],\n",
       "        [389, 381],\n",
       "        [391, 381],\n",
       "        [392, 381],\n",
       "        [397, 381],\n",
       "        [402, 381],\n",
       "        [404, 381],\n",
       "        [412, 381],\n",
       "        [414, 381],\n",
       "        [415, 381],\n",
       "        [416, 381],\n",
       "        [417, 381],\n",
       "        [427, 381],\n",
       "        [428, 381],\n",
       "        [430, 381],\n",
       "        [432, 381],\n",
       "        [444, 381],\n",
       "        [448, 308],\n",
       "        [448, 381],\n",
       "        [454, 381],\n",
       "        [457, 381],\n",
       "        [458, 308],\n",
       "        [458, 381],\n",
       "        [461, 381],\n",
       "        [463, 381],\n",
       "        [472, 381],\n",
       "        [475, 308],\n",
       "        [477, 381],\n",
       "        [481, 381],\n",
       "        [482, 381],\n",
       "        [506, 381],\n",
       "        [508, 381],\n",
       "        [509, 381],\n",
       "        [510, 381],\n",
       "        [511, 381],\n",
       "        [516, 381],\n",
       "        [519,  41],\n",
       "        [521, 381],\n",
       "        [530, 381],\n",
       "        [530, 603],\n",
       "        [533, 381],\n",
       "        [534, 647],\n",
       "        [537, 381],\n",
       "        [541, 308],\n",
       "        [543, 381],\n",
       "        [544, 308],\n",
       "        [545, 381],\n",
       "        [557, 381],\n",
       "        [557, 435],\n",
       "        [559, 381],\n",
       "        [561, 381],\n",
       "        [563, 381],\n",
       "        [564, 308],\n",
       "        [568, 381],\n",
       "        [571, 381],\n",
       "        [572, 381],\n",
       "        [585, 381],\n",
       "        [586, 381],\n",
       "        [587, 590],\n",
       "        [592, 381],\n",
       "        [599, 381],\n",
       "        [601, 381],\n",
       "        [608, 381],\n",
       "        [611, 381],\n",
       "        [615, 381],\n",
       "        [619, 381],\n",
       "        [622, 381],\n",
       "        [631, 381],\n",
       "        [633, 308],\n",
       "        [635, 381],\n",
       "        [640, 381],\n",
       "        [642, 381],\n",
       "        [649, 381],\n",
       "        [652, 381],\n",
       "        [659, 275],\n",
       "        [668, 381],\n",
       "        [671, 381],\n",
       "        [671, 393],\n",
       "        [673, 442],\n",
       "        [681, 381],\n",
       "        [683, 381],\n",
       "        [689,  99],\n",
       "        [689, 678],\n",
       "        [692, 381],\n",
       "        [697, 381],\n",
       "        [712, 381],\n",
       "        [714, 381],\n",
       "        [718, 381],\n",
       "        [721, 308],\n",
       "        [722, 381],\n",
       "        [723, 381],\n",
       "        [724, 715],\n",
       "        [726, 381],\n",
       "        [743, 381],\n",
       "        [753, 381],\n",
       "        [755, 381],\n",
       "        [767, 308]])"
      ]
     },
     "execution_count": 62,
     "metadata": {},
     "output_type": "execute_result"
    }
   ],
   "source": [
    "idx_nonzero = nonzero[k].nonzero()\n",
    "idx_nonzero"
   ]
  },
  {
   "cell_type": "code",
   "execution_count": 63,
   "metadata": {},
   "outputs": [
    {
     "data": {
      "text/plain": [
       "tensor(0.0058)"
      ]
     },
     "execution_count": 63,
     "metadata": {},
     "output_type": "execute_result"
    }
   ],
   "source": [
    "dw[k][1,381]"
   ]
  },
  {
   "cell_type": "code",
   "execution_count": 64,
   "metadata": {},
   "outputs": [
    {
     "data": {
      "text/plain": [
       "tensor(0.0026)"
      ]
     },
     "execution_count": 64,
     "metadata": {},
     "output_type": "execute_result"
    }
   ],
   "source": [
    "bw[k][1,381]"
   ]
  },
  {
   "cell_type": "code",
   "execution_count": 65,
   "metadata": {},
   "outputs": [],
   "source": [
    "p = get_param_from_name(m.encoder, k).data"
   ]
  },
  {
   "cell_type": "code",
   "execution_count": 66,
   "metadata": {},
   "outputs": [
    {
     "data": {
      "text/plain": [
       "tensor(0.0084)"
      ]
     },
     "execution_count": 66,
     "metadata": {},
     "output_type": "execute_result"
    }
   ],
   "source": [
    "p[1,381]"
   ]
  }
 ],
 "metadata": {
  "kernelspec": {
   "display_name": "testenv",
   "language": "python",
   "name": "python3"
  },
  "language_info": {
   "codemirror_mode": {
    "name": "ipython",
    "version": 3
   },
   "file_extension": ".py",
   "mimetype": "text/x-python",
   "name": "python",
   "nbconvert_exporter": "python",
   "pygments_lexer": "ipython3",
   "version": "3.9.12"
  },
  "orig_nbformat": 4,
  "vscode": {
   "interpreter": {
    "hash": "44fd53a9831942cc7290b70e18d76362301b009d310fe9edb8a5f7b8f5560d5f"
   }
  }
 },
 "nbformat": 4,
 "nbformat_minor": 2
}
